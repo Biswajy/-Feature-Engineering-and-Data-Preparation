{
  "nbformat": 4,
  "nbformat_minor": 0,
  "metadata": {
    "colab": {
      "name": " Web scraping project.ipynb",
      "provenance": [],
      "collapsed_sections": [],
      "authorship_tag": "ABX9TyP8I6ITGcCWjYIgd8ntoUUv",
      "include_colab_link": true
    },
    "kernelspec": {
      "name": "python3",
      "display_name": "Python 3"
    },
    "language_info": {
      "name": "python"
    }
  },
  "cells": [
    {
      "cell_type": "markdown",
      "metadata": {
        "id": "view-in-github",
        "colab_type": "text"
      },
      "source": [
        "<a href=\"https://colab.research.google.com/github/Biswajy/-Feature-Engineering-and-Data-Preparation/blob/main/Web_scraping_project.ipynb\" target=\"_parent\"><img src=\"https://colab.research.google.com/assets/colab-badge.svg\" alt=\"Open In Colab\"/></a>"
      ]
    },
    {
      "cell_type": "markdown",
      "source": [
        "# Objective \n",
        "We are going to use BeautifulSoup to scrape a Jobfinder website to find jobs and the information such as the company name, skills required, address, and area.\n"
      ],
      "metadata": {
        "id": "-bxxs9LqogXM"
      }
    },
    {
      "cell_type": "code",
      "source": [
        "from bs4 import BeautifulSoup\n",
        "import requests"
      ],
      "metadata": {
        "id": "mG7Xlukt8jBr"
      },
      "execution_count": null,
      "outputs": []
    },
    {
      "cell_type": "code",
      "source": [
        " result = requests.get('https://www.timesjobs.com/candidate/job-search.html?searchType=personalizedSearch&from=submit&txtKeywords=python&txtLocation=').text"
      ],
      "metadata": {
        "id": "6Z4uKQ_N8s1o"
      },
      "execution_count": null,
      "outputs": []
    },
    {
      "cell_type": "code",
      "source": [
        "soup = BeautifulSoup(result,'lxml')"
      ],
      "metadata": {
        "id": "6xpYVoFuDjMS"
      },
      "execution_count": null,
      "outputs": []
    },
    {
      "cell_type": "code",
      "source": [
        "job = soup.find('li',class_ = 'clearfix job-bx wht-shd-bx')"
      ],
      "metadata": {
        "id": "lmPfNhGZEfSM"
      },
      "execution_count": null,
      "outputs": []
    },
    {
      "cell_type": "code",
      "source": [
        "company_name = job.find('h3',class_= 'joblist-comp-name').text.replace(' ','')"
      ],
      "metadata": {
        "id": "QOpE16VQFmRD"
      },
      "execution_count": null,
      "outputs": []
    },
    {
      "cell_type": "code",
      "source": [
        "print(company_name)"
      ],
      "metadata": {
        "colab": {
          "base_uri": "https://localhost:8080/"
        },
        "id": "u34XFglyGC2X",
        "outputId": "b6bb7b25-318b-40f8-c993-e810b05da4e8"
      },
      "execution_count": null,
      "outputs": [
        {
          "output_type": "stream",
          "name": "stdout",
          "text": [
            "\r\n",
            "EAGatewayServicesIndiaPvtLtd\r\n",
            "(MoreJobs)\n",
            "\n"
          ]
        }
      ]
    },
    {
      "cell_type": "code",
      "source": [
        "skills = job.find('span',class_ = 'srp-skills').text.replace(' ','')"
      ],
      "metadata": {
        "id": "DV-NvgeLGFq9"
      },
      "execution_count": null,
      "outputs": []
    },
    {
      "cell_type": "code",
      "source": [
        "print(skills)"
      ],
      "metadata": {
        "colab": {
          "base_uri": "https://localhost:8080/"
        },
        "id": "ydoMiPrnGtQC",
        "outputId": "688c60c7-b994-41e7-bec1-0defdc0bc7ba"
      },
      "execution_count": null,
      "outputs": [
        {
          "output_type": "stream",
          "name": "stdout",
          "text": [
            "\n",
            "python,pandas,numpy,git\r\n",
            "\r\n",
            "\n"
          ]
        }
      ]
    },
    {
      "cell_type": "code",
      "source": [
        "publish_date = job.find('span',class_ = 'sim-posted').text"
      ],
      "metadata": {
        "id": "UwFTozaRHyPI"
      },
      "execution_count": null,
      "outputs": []
    },
    {
      "cell_type": "code",
      "source": [
        "print(publish_date)"
      ],
      "metadata": {
        "colab": {
          "base_uri": "https://localhost:8080/"
        },
        "id": "c8_MzFlLH_dE",
        "outputId": "0bcf3859-fcbb-408d-9067-b9ecc395c924"
      },
      "execution_count": null,
      "outputs": [
        {
          "output_type": "stream",
          "name": "stdout",
          "text": [
            "\n",
            "Posted few days ago\n",
            "\n"
          ]
        }
      ]
    },
    {
      "cell_type": "code",
      "source": [
        "print(f'''\n",
        "Company_name: {company_name}\n",
        "Req_skills: {skills}\n",
        "''')"
      ],
      "metadata": {
        "colab": {
          "base_uri": "https://localhost:8080/"
        },
        "id": "O82VFKY2Gwt7",
        "outputId": "eb2cc12c-95a9-4c31-a234-434e0c3a7c6c"
      },
      "execution_count": null,
      "outputs": [
        {
          "output_type": "stream",
          "name": "stdout",
          "text": [
            "\n",
            "Company_name: \r\n",
            "EAGatewayServicesIndiaPvtLtd\r\n",
            "(MoreJobs)\n",
            "\n",
            "Req_skills: \n",
            "python,pandas,numpy,git\r\n",
            "\r\n",
            "\n",
            "\n"
          ]
        }
      ]
    },
    {
      "cell_type": "code",
      "source": [
        "# Bring all the jobs from 1st page by creating a for Loop"
      ],
      "metadata": {
        "id": "GY1b5mHPIipV"
      },
      "execution_count": null,
      "outputs": []
    },
    {
      "cell_type": "code",
      "source": [
        "jobs = soup.find_all('li',class_ = 'clearfix job-bx wht-shd-bx')"
      ],
      "metadata": {
        "id": "H0QaQ7WWIp5T"
      },
      "execution_count": null,
      "outputs": []
    },
    {
      "cell_type": "code",
      "source": [
        "for job in jobs:\n",
        "    company_name = job.find('h3',class_= 'joblist-comp-name').text.replace(' ','')\n",
        "    skills = job.find('span',class_ = 'srp-skills').text.replace(' ','')\n",
        "    publish_date = job.find('span',class_ = 'sim-posted').text.replace(' ','')\n",
        "    print(f'''\n",
        "Company_name: {company_name}\n",
        "Req_skills: {skills}\n",
        "Published_date: {publish_date}\n",
        "''')"
      ],
      "metadata": {
        "colab": {
          "base_uri": "https://localhost:8080/"
        },
        "id": "pjdCpNfZI0UC",
        "outputId": "2dc7d066-58f3-4e20-abd4-5f6981f6938d"
      },
      "execution_count": null,
      "outputs": [
        {
          "output_type": "stream",
          "name": "stdout",
          "text": [
            "\n",
            "Company_name: \r\n",
            "EAGatewayServicesIndiaPvtLtd\r\n",
            "(MoreJobs)\n",
            "\n",
            "Req_skills: \n",
            "python,pandas,numpy,git\r\n",
            "\r\n",
            "\n",
            "Published_date: \n",
            "Postedfewdaysago\n",
            "\n",
            "\n",
            "\n",
            "Company_name: \r\n",
            "SuryaInformaticsSolutionsPvt.Ltd.\r\n",
            "\r\n",
            "\n",
            "Req_skills: \n",
            "python,webtechnologies,linux,mobile,mysql,angularjs,javascript\r\n",
            "\r\n",
            "\n",
            "Published_date: \n",
            "Posted2daysago\n",
            "\n",
            "\n",
            "\n",
            "Company_name: \r\n",
            "PureTechCodexPrivateLimited\r\n",
            "\r\n",
            "\n",
            "Req_skills: \r\n",
            "\r\n",
            "rest,python,database,django,debugging,mongodb\r\n",
            "\r\n",
            "\n",
            "Published_date: \n",
            "Postedfewdaysago\n",
            "\n",
            "\n",
            "\n",
            "Company_name: \r\n",
            "GeminiSolutions\r\n",
            "\r\n",
            "\n",
            "Req_skills: \n",
            "python,mobile,svn,nosql,pythonscripting,git,api,sqldatabase\r\n",
            "\r\n",
            "\n",
            "Published_date: \n",
            "Postedfewdaysago\n",
            "\n",
            "\n",
            "\n",
            "Company_name: \r\n",
            "RESEARCHDEVELOPERS\r\n",
            "(MoreJobs)\n",
            "\n",
            "Req_skills: \n",
            "python,research,pythonprogrammer,MachineLearning,PatternRecognition,ImageProcessing,DigitalImage,SignalProcessing,ElectronicCircuits,NetworkAnalysis\r\n",
            "\r\n",
            "\n",
            "Published_date: \n",
            "\n",
            "WorkfromHome\r\n",
            "\t\t\t\n",
            "Postedfewdaysago\n",
            "\n",
            "\n",
            "\n",
            "Company_name: \r\n",
            "TECHNOPARKTRIVANDRUM\r\n",
            "\r\n",
            "\n",
            "Req_skills: \n",
            "python,oops,storage\r\n",
            "\r\n",
            "\n",
            "Published_date: \n",
            "Posted1dayago\n",
            "\n",
            "\n",
            "\n",
            "Company_name: \r\n",
            "LAKSHHUMANRESOURCE\r\n",
            "\r\n",
            "\n",
            "Req_skills: \r\n",
            "\r\n",
            "rest,python,django,git\r\n",
            "\r\n",
            "\n",
            "Published_date: \n",
            "Posted1dayago\n",
            "\n",
            "\n",
            "\n",
            "Company_name: \r\n",
            "SEVENCONSULTANCY\r\n",
            "\r\n",
            "\n",
            "Req_skills: \n",
            "python,mvc,sql\r\n",
            "\r\n",
            "\n",
            "Published_date: \n",
            "Posted5daysago\n",
            "\n",
            "\n",
            "\n",
            "Company_name: \r\n",
            "brickred(3pillarglobal)\r\n",
            "\r\n",
            "\n",
            "Req_skills: \r\n",
            "\r\n",
            "softwareproducts,Python,DynamoDB\r\n",
            "\r\n",
            "\n",
            "Published_date: \n",
            "Posted5daysago\n",
            "\n",
            "\n",
            "\n",
            "Company_name: \n",
            "IvanInfotechPvt.Ltd.\n",
            "\n",
            "\n",
            "Req_skills: \n",
            "\n",
            "rest,python,security,debugging\n",
            "\n",
            "\n",
            "Published_date: \n",
            "Posted6daysago\n",
            "\n",
            "\n",
            "\n",
            "Company_name: \n",
            "Gibots\n",
            "\n",
            "\n",
            "Req_skills: \n",
            "python,elementsdeveloped,performanceapplications\n",
            "\n",
            "\n",
            "Published_date: \n",
            "Posted1dayago\n",
            "\n",
            "\n",
            "\n",
            "Company_name: \n",
            "AnanthaCyberTechPvtLimited\n",
            "\n",
            "\n",
            "Req_skills: \n",
            "python,c,c,informationtechnology\n",
            "\n",
            "\n",
            "Published_date: \n",
            "Posted1dayago\n",
            "\n",
            "\n",
            "\n",
            "Company_name: \n",
            "GoldenOpportunitiesPvtLtd\n",
            "\n",
            "\n",
            "Req_skills: \n",
            "python,informationtechnology,sql\n",
            "\n",
            "\n",
            "Published_date: \n",
            "Postedfewdaysago\n",
            "\n",
            "\n",
            "\n",
            "Company_name: \n",
            "TECHNOPARKTRIVANDRUM\n",
            "\n",
            "\n",
            "Req_skills: \n",
            "python,django,debugging,mysql,mongodb\n",
            "\n",
            "\n",
            "Published_date: \n",
            "Posted2daysago\n",
            "\n",
            "\n",
            "\n",
            "Company_name: \n",
            "BoschLtd\n",
            "\n",
            "\n",
            "Req_skills: \n",
            "\n",
            "algorithms,git,oops,debugging,python\n",
            "\n",
            "Published_date: \n",
            "Posted3daysago\n",
            "\n",
            "\n",
            "\n",
            "Company_name: \n",
            "TandAHRSolutions\n",
            "\n",
            "\n",
            "Req_skills: \n",
            "\n",
            "Djangoframework,PythonDeveloper,corepython\n",
            "\n",
            "Published_date: \n",
            "Postedfewdaysago\n",
            "\n",
            "\n",
            "\n",
            "Company_name: \n",
            "eastindiasecuritiesltd.\n",
            "\n",
            "\n",
            "Req_skills: \n",
            "python,hadoop,machinelearning\n",
            "\n",
            "\n",
            "Published_date: \n",
            "Postedfewdaysago\n",
            "\n",
            "\n",
            "\n",
            "Company_name: \n",
            "YMGlobalTechnologiesPteLtd\n",
            "\n",
            "\n",
            "Req_skills: \n",
            "python,apache,machinelearning\n",
            "\n",
            "\n",
            "Published_date: \n",
            "Postedfewdaysago\n",
            "\n",
            "\n",
            "\n",
            "Company_name: \n",
            "YallastechnologysolutionsPrivatelimitedi\n",
            "(MoreJobs)\n",
            "\n",
            "Req_skills: \n",
            "Python\n",
            "\n",
            "Published_date: \n",
            "Postedfewdaysago\n",
            "\n",
            "\n",
            "\n",
            "Company_name: \n",
            "TEAMPLUSSTAFFINGSOLUTIONPVT.LTD.\n",
            "\n",
            "\n",
            "Req_skills: \n",
            "python,pythonscripting,shellscripting,unix\n",
            "\n",
            "\n",
            "Published_date: \n",
            "Postedfewdaysago\n",
            "\n",
            "\n",
            "\n",
            "Company_name: \n",
            "sjainventures\n",
            "\n",
            "\n",
            "Req_skills: \n",
            "python,webdeveloper,webservices\n",
            "\n",
            "\n",
            "Published_date: \n",
            "Posted5daysago\n",
            "\n",
            "\n",
            "\n",
            "Company_name: \n",
            "MINDWORKSGLOBALMEDIASERVICES\n",
            "\n",
            "\n",
            "Req_skills: \n",
            "python,mysql,mongodb\n",
            "\n",
            "\n",
            "Published_date: \n",
            "Postedfewdaysago\n",
            "\n",
            "\n",
            "\n",
            "Company_name: \n",
            "qualityengineeringpvt.ltd.jalgaon\n",
            "\n",
            "\n",
            "Req_skills: \n",
            "\n",
            "rest,python,embeddedsoftware,git\n",
            "\n",
            "\n",
            "Published_date: \n",
            "Posted6daysago\n",
            "\n",
            "\n",
            "\n",
            "Company_name: \n",
            "qualityengineeringpvt.ltd.jalgaon\n",
            "\n",
            "\n",
            "Req_skills: \n",
            "\n",
            "rest,python,embeddedsoftware,git\n",
            "\n",
            "\n",
            "Published_date: \n",
            "Posted6daysago\n",
            "\n",
            "\n",
            "\n",
            "Company_name: \n",
            "qualityengineeringpvt.ltd.jalgaon\n",
            "\n",
            "\n",
            "Req_skills: \n",
            "\n",
            "rest,python,embeddedsoftware,git\n",
            "\n",
            "\n",
            "Published_date: \n",
            "Posted6daysago\n",
            "\n",
            "\n"
          ]
        }
      ]
    },
    {
      "cell_type": "code",
      "source": [
        "# Now we will be filterin g jobs having a tag \"Posted few days ago\"\n"
      ],
      "metadata": {
        "id": "H1rxgP1HJtQT"
      },
      "execution_count": null,
      "outputs": []
    },
    {
      "cell_type": "code",
      "source": [
        "for job in jobs:\n",
        "    company_name = job.find('h3',class_= 'joblist-comp-name').text.replace(' ','')\n",
        "    skills = job.find('span',class_ = 'srp-skills').text.replace(' ','')\n",
        "    publish_date = job.find('span',class_ = 'sim-posted').text.replace(' ','')\n",
        "    if 'few' in publish_date:\n",
        "        print(f'''\n",
        "        Company_name: {company_name}\n",
        "        Req_skills: {skills}\n",
        "        Published_date: {publish_date}\n",
        "        \n",
        "        ''')"
      ],
      "metadata": {
        "colab": {
          "base_uri": "https://localhost:8080/"
        },
        "id": "OznL59w6No-l",
        "outputId": "0fa5052c-13e2-41f9-baea-8dd902838b86"
      },
      "execution_count": null,
      "outputs": [
        {
          "output_type": "stream",
          "name": "stdout",
          "text": [
            "\n",
            "        Company_name: \r\n",
            "EAGatewayServicesIndiaPvtLtd\r\n",
            "(MoreJobs)\n",
            "\n",
            "        Req_skills: \n",
            "python,pandas,numpy,git\r\n",
            "\r\n",
            "\n",
            "        Published_date: \n",
            "Postedfewdaysago\n",
            "\n",
            "        \n",
            "        \n",
            "\n",
            "        Company_name: \r\n",
            "PureTechCodexPrivateLimited\r\n",
            "\r\n",
            "\n",
            "        Req_skills: \r\n",
            "\r\n",
            "rest,python,database,django,debugging,mongodb\r\n",
            "\r\n",
            "\n",
            "        Published_date: \n",
            "Postedfewdaysago\n",
            "\n",
            "        \n",
            "        \n",
            "\n",
            "        Company_name: \r\n",
            "GeminiSolutions\r\n",
            "\r\n",
            "\n",
            "        Req_skills: \n",
            "python,mobile,svn,nosql,pythonscripting,git,api,sqldatabase\r\n",
            "\r\n",
            "\n",
            "        Published_date: \n",
            "Postedfewdaysago\n",
            "\n",
            "        \n",
            "        \n",
            "\n",
            "        Company_name: \r\n",
            "RESEARCHDEVELOPERS\r\n",
            "(MoreJobs)\n",
            "\n",
            "        Req_skills: \n",
            "python,research,pythonprogrammer,MachineLearning,PatternRecognition,ImageProcessing,DigitalImage,SignalProcessing,ElectronicCircuits,NetworkAnalysis\r\n",
            "\r\n",
            "\n",
            "        Published_date: \n",
            "\n",
            "WorkfromHome\r\n",
            "\t\t\t\n",
            "Postedfewdaysago\n",
            "\n",
            "        \n",
            "        \n",
            "\n",
            "        Company_name: \r\n",
            "GoldenOpportunitiesPvtLtd\r\n",
            "\r\n",
            "\n",
            "        Req_skills: \n",
            "python,informationtechnology,sql\r\n",
            "\r\n",
            "\n",
            "        Published_date: \n",
            "Postedfewdaysago\n",
            "\n",
            "        \n",
            "        \n",
            "\n",
            "        Company_name: \r\n",
            "TandAHRSolutions\r\n",
            "\r\n",
            "\n",
            "        Req_skills: \r\n",
            "\r\n",
            "Djangoframework,PythonDeveloper,corepython\n",
            "\n",
            "        Published_date: \n",
            "Postedfewdaysago\n",
            "\n",
            "        \n",
            "        \n",
            "\n",
            "        Company_name: \r\n",
            "eastindiasecuritiesltd.\r\n",
            "\r\n",
            "\n",
            "        Req_skills: \n",
            "python,hadoop,machinelearning\r\n",
            "\r\n",
            "\n",
            "        Published_date: \n",
            "Postedfewdaysago\n",
            "\n",
            "        \n",
            "        \n",
            "\n",
            "        Company_name: \r\n",
            "YMGlobalTechnologiesPteLtd\r\n",
            "\r\n",
            "\n",
            "        Req_skills: \n",
            "python,apache,machinelearning\r\n",
            "\r\n",
            "\n",
            "        Published_date: \n",
            "Postedfewdaysago\n",
            "\n",
            "        \n",
            "        \n",
            "\n",
            "        Company_name: \r\n",
            "YallastechnologysolutionsPrivatelimitedi\r\n",
            "(MoreJobs)\n",
            "\n",
            "        Req_skills: \n",
            "Python\n",
            "\n",
            "        Published_date: \n",
            "Postedfewdaysago\n",
            "\n",
            "        \n",
            "        \n",
            "\n",
            "        Company_name: \r\n",
            "TEAMPLUSSTAFFINGSOLUTIONPVT.LTD.\r\n",
            "\r\n",
            "\n",
            "        Req_skills: \n",
            "python,pythonscripting,shellscripting,unix\r\n",
            "\r\n",
            "\n",
            "        Published_date: \n",
            "Postedfewdaysago\n",
            "\n",
            "        \n",
            "        \n",
            "\n",
            "        Company_name: \r\n",
            "MINDWORKSGLOBALMEDIASERVICES\r\n",
            "\r\n",
            "\n",
            "        Req_skills: \n",
            "python,mysql,mongodb\r\n",
            "\r\n",
            "\n",
            "        Published_date: \n",
            "Postedfewdaysago\n",
            "\n",
            "        \n",
            "        \n"
          ]
        }
      ]
    },
    {
      "cell_type": "code",
      "source": [
        "#End"
      ],
      "metadata": {
        "id": "y4cWz17jOH3o"
      },
      "execution_count": null,
      "outputs": []
    },
    {
      "cell_type": "code",
      "source": [
        ""
      ],
      "metadata": {
        "id": "NEREb4yPIIZM"
      },
      "execution_count": null,
      "outputs": []
    }
  ]
}